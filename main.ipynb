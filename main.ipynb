{
 "cells": [
  {
   "cell_type": "code",
   "execution_count": null,
   "metadata": {},
   "outputs": [],
   "source": [
    "from datetime import datetime \n",
    "\n",
    "from src.config import params\n",
    "from src.strategy import DCAStrategy\n",
    "from src.price_loader import StockLoader\n",
    "    \n",
    "ticker = \"SPY\"\n",
    "start = datetime(1994, 1, 1) \n",
    "end = datetime(2024, 1, 1) \n",
    "initial_cash = 20_000\n",
    "initial_monthly_contribution = 200\n",
    "yearly_bump=50\n",
    "\n",
    "strategy = DCAStrategy(ticker, start, end, initial_cash, initial_monthly_contribution, yearly_bump)\n",
    "monthly_prices = StockLoader(ticker).get_monthly_prices(\\\n",
    "    start, end, params[ticker][\"yearly_fee\"], include_dividends=True)\n",
    "strategy.simulate_investment_strategy(monthly_prices)\n",
    "strategy.create_portfolio_visualization(monthly_prices)"
   ]
  },
  {
   "cell_type": "code",
   "execution_count": null,
   "metadata": {},
   "outputs": [],
   "source": []
  },
  {
   "cell_type": "code",
   "execution_count": null,
   "metadata": {},
   "outputs": [],
   "source": [
    "# download data about EUR/USD from yahoo finance\n",
    "# Pas facile car il faut les données en franc et faire le passage à l'euro pour avant 2000"
   ]
  },
  {
   "cell_type": "code",
   "execution_count": null,
   "metadata": {},
   "outputs": [],
   "source": [
    "# Add inflation and Gold"
   ]
  },
  {
   "cell_type": "code",
   "execution_count": null,
   "metadata": {},
   "outputs": [],
   "source": [
    "# TODO: Ajouter un bouton lancer la simulation\n",
    "\n",
    "# TODO: Dépasser le PEA et remplir un CTO ensuite\n",
    "\n",
    "# TODO: Ajouter ce que ça aurait rapporté sur un livret A\n",
    "# TODO: Ajouter l'argent investi au prix actualisé par rapport à l'inflation\n",
    "# TODO: Comparaison avec l'or\n",
    "# TODO: Prendre en compte le taux de change USD/EUR, et aussi avec le franc\n",
    "\n",
    "# TODO: Ajouter D'autres indices (MSCI World, Nasdaq, momentum)\n",
    "# TODO: Ajouter un historique beaucoup plus long\n",
    "\n",
    "# TODO: Ajouter des options telles que \"pire scenario\", \"meilleur scenario\""
   ]
  }
 ],
 "metadata": {
  "kernelspec": {
   "display_name": "venv",
   "language": "python",
   "name": "python3"
  },
  "language_info": {
   "codemirror_mode": {
    "name": "ipython",
    "version": 3
   },
   "file_extension": ".py",
   "mimetype": "text/x-python",
   "name": "python",
   "nbconvert_exporter": "python",
   "pygments_lexer": "ipython3",
   "version": "3.9.13"
  },
  "orig_nbformat": 4
 },
 "nbformat": 4,
 "nbformat_minor": 2
}
