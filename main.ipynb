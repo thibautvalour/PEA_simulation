{
 "cells": [
  {
   "cell_type": "code",
   "execution_count": null,
   "metadata": {},
   "outputs": [],
   "source": [
    "import os \n",
    "import numpy as np \n",
    "import pandas as pd\n",
    "import matplotlib.pyplot as plt\n",
    "import plotly.graph_objects as go\n",
    "import datetime\n",
    "import time\n",
    "\n",
    "import yfinance as yf\n",
    "\n",
    "from data_loading_funcs import get_monthly_stock_with_dividends"
   ]
  },
  {
   "cell_type": "markdown",
   "metadata": {},
   "source": [
    "# Passive strategy"
   ]
  },
  {
   "cell_type": "code",
   "execution_count": null,
   "metadata": {},
   "outputs": [],
   "source": [
    "class Strategy:\n",
    "    def __init__(self, stock, start, end, \n",
    "                 initial_cash, initial_monthly_contribution, monthly_contribution_increase_per_year,\n",
    "                 entry_fee=0.03, exit_fee=0.03, yearly_fee=0.00153,\n",
    "                 exit_taxe_rate_on_gains=0.172, limit_PEA=150_000):\n",
    "        self.stock = stock\n",
    "        self.start = start\n",
    "        self.end = end\n",
    "        self.entry_fee = entry_fee\n",
    "        self.exit_fee = exit_fee\n",
    "        self.yearly_fee = yearly_fee\n",
    "        self.exit_taxe_rate_on_gains = exit_taxe_rate_on_gains\n",
    "        self.initial_cash = initial_cash\n",
    "        self.initial_monthly_contribution = initial_monthly_contribution\n",
    "        self.monthly_contribution_increase_per_year = monthly_contribution_increase_per_year\n",
    "        self.limit_PEA = limit_PEA\n",
    "\n",
    "    \n",
    "    def passive_strategy(self, monthly_prices):\n",
    "\n",
    "        shares_owned = self.initial_cash // (monthly_prices.iloc[0]['Adjusted Close'] * (1 + self.entry_fee))\n",
    "        current_cash = self.initial_cash - (shares_owned * monthly_prices.iloc[0]['Adjusted Close']* (1 + self.entry_fee))\n",
    "        current_monthly_contribution = self.initial_monthly_contribution\n",
    "\n",
    "        # Lists to store value over time for plotting\n",
    "        portfolio_values, exit_values = [], []\n",
    "        monthly_contributions, invested_cash_values = [], []\n",
    "\n",
    "        for idx, (_, row) in enumerate(monthly_prices.iterrows()):\n",
    "\n",
    "            if (idx+1)%12 == 0:\n",
    "                current_monthly_contribution += self.monthly_contribution_increase_per_year\n",
    "       \n",
    "            # Check if we can invest more in the PEA\n",
    "            if invested_cash_values and (invested_cash_values[-1] + current_monthly_contribution > self.limit_PEA):\n",
    "                current_monthly_contribution = max(0, self.limit_PEA - invested_cash_values[-1])\n",
    "\n",
    "            current_cash += current_monthly_contribution\n",
    "            \n",
    "            # Buy as many shares as possible\n",
    "            shares_to_buy = current_cash // (row['Adjusted Close'] * (1 + self.entry_fee))\n",
    "            shares_owned += shares_to_buy\n",
    "            current_cash = current_cash - (shares_to_buy * row['Adjusted Close'] * (1 + self.entry_fee))\n",
    "            \n",
    "            \n",
    "            monthly_contributions.append(current_monthly_contribution)\n",
    "            invested_cash_values.append((invested_cash_values[-1] + current_monthly_contribution) if idx>0\n",
    "                                         else self.initial_cash)\n",
    "            \n",
    "            # Stock value\n",
    "            portfolio_values.append(shares_owned * row['Adjusted Close'] + current_cash)\n",
    "\n",
    "            # Compute potential exit value\n",
    "            money_after_selling = shares_owned * row['Adjusted Close'] * (1 - self.exit_fee) + current_cash\n",
    "            if money_after_selling < invested_cash_values[-1]: # No gain so no tax\n",
    "                exit_value = money_after_selling\n",
    "            else:\n",
    "                exit_value = ((money_after_selling - invested_cash_values[-1]) * (1 - self.exit_taxe_rate_on_gains) \n",
    "                                + invested_cash_values[-1])\n",
    "            exit_values.append(exit_value)\n",
    "\n",
    "\n",
    "        self.montly_contributions = monthly_contributions\n",
    "        self.invested_cash_values = invested_cash_values\n",
    "        self.portfolio_values = portfolio_values\n",
    "        self.exit_values = exit_values\n",
    "\n",
    "    def plot_passive_strategy(self, monthly_prices):\n",
    "\n",
    "        fig = go.Figure()\n",
    "        fig.add_trace(go.Scatter(x=monthly_prices.index, y=self.invested_cash_values,\n",
    "                                mode='lines', name=\"Total Cash Invested\",\n",
    "                                line=dict(color='royalblue', width=2, dash='dash')))\n",
    "        fig.add_trace(go.Scatter(x=monthly_prices.index, y=self.exit_values,\n",
    "                                mode='lines', name=\"Net exit value\",\n",
    "                                line=dict(color='green', width=2)))\n",
    "\n",
    "        fig.update_layout(\n",
    "            title=f\"Dollar-Cost Averaging Strategy: {self.start.year}-{self.end.year}\",\n",
    "            xaxis_title=\"Year\",\n",
    "            yaxis_title=\"Value ($)\",\n",
    "            # yaxis_type=\"log\",\n",
    "            font=dict(\n",
    "                family=\"Courier New, monospace\",\n",
    "                size=14,\n",
    "                color=\"#7f7f7f\"\n",
    "            ))\n",
    "        fig.show()\n",
    "\n",
    "\n",
    "        print(f\"Total cash invested: ${self.invested_cash_values[-1]:,.0f}\")\n",
    "        print(f\"Net exit value: ${self.exit_values[-1]:,.0f}\")\n",
    "        print(f\"\\nmax monthly contribution: ${max(self.montly_contributions):,.0f}\")\n",
    "\n",
    "    def run(self):\n",
    "        monthly_prices = get_monthly_stock_with_dividends(self.stock, self.start, self.end, yearly_fee_rate=self.yearly_fee)\n",
    "        self.passive_strategy(monthly_prices)\n",
    "        self.plot_passive_strategy(monthly_prices)"
   ]
  },
  {
   "cell_type": "code",
   "execution_count": null,
   "metadata": {},
   "outputs": [],
   "source": [
    "start = datetime.datetime(1994, 1, 1) \n",
    "end = datetime.datetime(2010, 1, 1) \n",
    "# end = datetime.datetime.now() - datetime.timedelta(days=1) # Yesterday\n",
    "\n",
    "stock = 'SPY' # S&P 500 ETF\n",
    "initial_cash = 30_000 # currency=USD\n",
    "initial_monthly_contribution = 100\n",
    "monthly_contribution_increases_per_year = 0\n",
    "\n",
    "strategy = Strategy(stock, start, end, initial_cash=initial_cash,\n",
    "                    initial_monthly_contribution=initial_monthly_contribution,\n",
    "                    monthly_contribution_increase_per_year=monthly_contribution_increases_per_year)\n",
    "strategy.run()"
   ]
  },
  {
   "cell_type": "code",
   "execution_count": null,
   "metadata": {},
   "outputs": [],
   "source": [
    "# download data about EUR/USD from yahoo finance\n",
    "# Pas facile car il faut les données en franc et faire le passage à l'euro pour avant 2000"
   ]
  },
  {
   "cell_type": "code",
   "execution_count": null,
   "metadata": {},
   "outputs": [],
   "source": [
    "# Add inflation and Gold"
   ]
  },
  {
   "cell_type": "code",
   "execution_count": null,
   "metadata": {},
   "outputs": [],
   "source": [
    "df_inflation = pd.read_excel('../data/rates.xlsx', skiprows=3, sheet_name='Inflation'\n",
    "                             ).dropna().sort_values(by='Année')\n",
    "df_inflation.rename(columns={'Année': 'Year', 'Taux d\\'inflation': 'Inflation'}, inplace=True)"
   ]
  },
  {
   "cell_type": "code",
   "execution_count": null,
   "metadata": {},
   "outputs": [],
   "source": [
    "df_livretA = pd.read_excel('../data/rates.xlsx', skiprows=1, sheet_name='Livret A')\n",
    "df_livretA"
   ]
  },
  {
   "cell_type": "code",
   "execution_count": null,
   "metadata": {},
   "outputs": [],
   "source": []
  },
  {
   "cell_type": "code",
   "execution_count": null,
   "metadata": {},
   "outputs": [],
   "source": [
    "# TODO: Ajouter ce que ça aurait rapporté sur un livret A\n",
    "# TODO: Ajouter l'argent investi au prix actualisé par rapport à l'inflation\n",
    "# TODO: Comparaison avec l'or\n",
    "# TODO: Prendre en compte le taux de change USD/EUR\n",
    "# TODO: changer la portfolio value par: what if I sell today\n",
    "\n",
    "# TODO: Déployer en ligne avec Streamlit"
   ]
  }
 ],
 "metadata": {
  "kernelspec": {
   "display_name": "Python 3",
   "language": "python",
   "name": "python3"
  },
  "language_info": {
   "codemirror_mode": {
    "name": "ipython",
    "version": 3
   },
   "file_extension": ".py",
   "mimetype": "text/x-python",
   "name": "python",
   "nbconvert_exporter": "python",
   "pygments_lexer": "ipython3",
   "version": "3.9.13"
  },
  "orig_nbformat": 4
 },
 "nbformat": 4,
 "nbformat_minor": 2
}
