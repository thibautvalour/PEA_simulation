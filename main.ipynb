{
 "cells": [
  {
   "cell_type": "code",
   "execution_count": 1,
   "metadata": {},
   "outputs": [],
   "source": [
    "import numpy as np \n",
    "import pandas as pd\n",
    "import matplotlib.pyplot as plt\n",
    "import plotly.graph_objects as go\n",
    "import datetime\n",
    "\n",
    "import yfinance as yf\n",
    "\n",
    "from strategy import Strategy"
   ]
  },
  {
   "cell_type": "markdown",
   "metadata": {},
   "source": [
    "# Passive strategy"
   ]
  },
  {
   "cell_type": "code",
   "execution_count": null,
   "metadata": {},
   "outputs": [],
   "source": [
    "start = datetime.datetime(1994, 1, 1) \n",
    "end = datetime.datetime(2010, 1, 1) \n",
    "# end = datetime.datetime.now() - datetime.timedelta(days=1) # Yesterday\n",
    "\n",
    "stock = 'SPY' # S&P 500 ETF\n",
    "initial_cash = 30_000 # currency=USD\n",
    "initial_monthly_contribution = 100\n",
    "monthly_contribution_increases_per_year = 0\n",
    "\n",
    "strategy = Strategy(stock, start, end, initial_cash=initial_cash,\n",
    "                    initial_monthly_contribution=initial_monthly_contribution,\n",
    "                    monthly_contribution_increase_per_year=monthly_contribution_increases_per_year)\n",
    "\n",
    "strategy.run()"
   ]
  },
  {
   "cell_type": "code",
   "execution_count": null,
   "metadata": {},
   "outputs": [],
   "source": [
    "# download data about EUR/USD from yahoo finance\n",
    "# Pas facile car il faut les données en franc et faire le passage à l'euro pour avant 2000"
   ]
  },
  {
   "cell_type": "code",
   "execution_count": null,
   "metadata": {},
   "outputs": [],
   "source": [
    "# Add inflation and Gold"
   ]
  },
  {
   "cell_type": "code",
   "execution_count": null,
   "metadata": {},
   "outputs": [],
   "source": [
    "# TODO: Ajouter ce que ça aurait rapporté sur un livret A\n",
    "# TODO: Ajouter l'argent investi au prix actualisé par rapport à l'inflation\n",
    "# TODO: Comparaison avec l'or\n",
    "# TODO: Prendre en compte le taux de change USD/EUR\n",
    "# TODO: changer la portfolio value par: what if I sell today\n",
    "\n",
    "# TODO: Déployer en ligne avec Streamlit"
   ]
  }
 ],
 "metadata": {
  "kernelspec": {
   "display_name": "Python 3",
   "language": "python",
   "name": "python3"
  },
  "language_info": {
   "codemirror_mode": {
    "name": "ipython",
    "version": 3
   },
   "file_extension": ".py",
   "mimetype": "text/x-python",
   "name": "python",
   "nbconvert_exporter": "python",
   "pygments_lexer": "ipython3",
   "version": "3.9.13"
  },
  "orig_nbformat": 4
 },
 "nbformat": 4,
 "nbformat_minor": 2
}
